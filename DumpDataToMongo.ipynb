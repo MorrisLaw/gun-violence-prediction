{
 "cells": [
  {
   "cell_type": "markdown",
   "metadata": {},
   "source": [
    "## Dumping data to a Mongo Instance running on Atlas"
   ]
  },
  {
   "cell_type": "markdown",
   "metadata": {},
   "source": [
    "In order to import the data to a mongo db cluster running on Atlas, use the following command from the command line:"
   ]
  },
  {
   "cell_type": "markdown",
   "metadata": {},
   "source": [
    "`mongoimport --type csv --headerline --db gun-violence-kaggle --collection gun-violence-data --host \"gun-violence-kaggle-shard-0/gun-violence-kaggle-shard-00-00-nih4d.mongodb.net:27017,gun-violence-kaggle-shard-00-01-nih4d.mongodb.net:27017,gun-violence-kaggle-shard-00-02-nih4d.mongodb.net:27017\" --authenticationDatabase admin --ssl --username admin --password admin --file path/to/gun-violence/data`"
   ]
  },
  {
   "cell_type": "markdown",
   "metadata": {},
   "source": [
    "## Connecting to the instance using Mongo Shell"
   ]
  },
  {
   "cell_type": "markdown",
   "metadata": {},
   "source": [
    "`mongo \"mongodb+srv://gun-violence-kaggle-nih4d.mongodb.net/test\" --username admin`"
   ]
  }
 ],
 "metadata": {
  "kernelspec": {
   "display_name": "Python 3",
   "language": "python",
   "name": "python3"
  },
  "language_info": {
   "codemirror_mode": {
    "name": "ipython",
    "version": 3
   },
   "file_extension": ".py",
   "mimetype": "text/x-python",
   "name": "python",
   "nbconvert_exporter": "python",
   "pygments_lexer": "ipython3",
   "version": "3.6.2"
  }
 },
 "nbformat": 4,
 "nbformat_minor": 2
}
